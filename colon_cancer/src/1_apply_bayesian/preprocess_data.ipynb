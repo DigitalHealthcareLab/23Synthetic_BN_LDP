{
 "cells": [
  {
   "cell_type": "code",
   "execution_count": 10,
   "id": "f5fad78e",
   "metadata": {},
   "outputs": [],
   "source": [
    "#%%\n",
    "import pandas as pd\n",
    "import pickle\n",
    "import argparse\n",
    "from pathlib import Path\n",
    "import os, sys\n",
    "import multiprocessing\n",
    "import yaml\n",
    "from itertools import repeat\n",
    "\n",
    "PROJECT_PATH = Path('/home/dogu86/colon_synthesis_2')"
   ]
  },
  {
   "cell_type": "code",
   "execution_count": 11,
   "id": "4e3a5903",
   "metadata": {},
   "outputs": [],
   "source": [
    "#%%\n",
    "with open(PROJECT_PATH.joinpath('config/config.yaml')) as f:\n",
    "    config = yaml.load(f, yaml.SafeLoader)\n",
    "os.sys.path.append(config['path_config']['project_path'])\n",
    "\n",
    "from src.MyModule.utils import *"
   ]
  },
  {
   "cell_type": "code",
   "execution_count": 12,
   "id": "85b86adc",
   "metadata": {},
   "outputs": [],
   "source": [
    "#%%\n",
    "PROJ_PATH = Path(config['path_config']['project_path'])\n",
    "INPUT_PATH = PROJ_PATH.joinpath('data/processed/0_preprocess')\n",
    "OUTPUT_PATH = PROJ_PATH.joinpath('data/processed/1_apply_bayesian/preprocess_data/D1')\n",
    "\n",
    "if not OUTPUT_PATH.exists() :\n",
    "    OUTPUT_PATH.mkdir(exist_ok=True, parents=True)"
   ]
  },
  {
   "cell_type": "code",
   "execution_count": 13,
   "id": "c3ed9c84",
   "metadata": {},
   "outputs": [],
   "source": [
    "#%%\n",
    "def load_input_data():\n",
    "    path = INPUT_PATH.joinpath('D1.pkl')\n",
    "    assert path.exists(), 'D0.pkl does not exist. Start from 0_preprocess'\n",
    "    \n",
    "    with open(path, 'rb') as f:\n",
    "        return pickle.load(f)\n",
    "\n",
    "def load_encodings():\n",
    "    '''\n",
    "    loads the encodings\n",
    "    '''\n",
    "    path = INPUT_PATH.joinpath('encoding.pkl')\n",
    "    with open(path, 'rb') as f:\n",
    "        return pickle.load(f)\n",
    "    \n",
    "def chunk_data(D0, patient_id):\n",
    "    '''\n",
    "    splits D0 by patient to patient and saves it into a data format\n",
    "    input : D0 -> the original data\n",
    "            patient_id -> patient id, PT_SBST_NO\n",
    "    output : data for the corresponding patient_id\n",
    "    '''\n",
    "    return D0[D0.PT_SBST_NO == patient_id].copy()\n",
    "\n",
    "def save_data(data_of_single_patient, patient_id):\n",
    "    '''\n",
    "    saves the input data\n",
    "    '''\n",
    "    path = OUTPUT_PATH.joinpath(f'pt_{patient_id}.csv')\n",
    "    data_of_single_patient.to_csv(path, index=False)\n",
    "    return"
   ]
  },
  {
   "cell_type": "code",
   "execution_count": 14,
   "id": "c1ae6a88",
   "metadata": {},
   "outputs": [],
   "source": [
    "#%%\n",
    "D0 = load_input_data()\n",
    "categorical_columns = D0.select_dtypes('object').columns.tolist()\n",
    "\n",
    "#%%\n",
    "def preprocess_data(D0, patient_id):\n",
    "    data = chunk_data(D0, patient_id)\n",
    "    data = data.loc[:,~data.isna().all()].copy()\n",
    "    \n",
    "    data = data[data.columns[1:]]\n",
    "    \n",
    "    save_data(data, patient_id)\n",
    "    return \n",
    "\n",
    "with open(OUTPUT_PATH.joinpath('categorical_columns.pkl'),'wb') as f:\n",
    "    pickle.dump(categorical_columns, f)\n",
    "\n",
    "#%%\n",
    "patients = D0.PT_SBST_NO.unique().tolist()\n",
    "\n",
    "#%% \n",
    "with multiprocessing.Pool(8) as p:\n",
    "    p.starmap(preprocess_data, zip(repeat(D0), patients))"
   ]
  },
  {
   "cell_type": "code",
   "execution_count": 18,
   "id": "7baaa362",
   "metadata": {},
   "outputs": [
    {
     "data": {
      "text/plain": [
       "PT_SBST_NO                1342\n",
       "TIME                      3384\n",
       "DG_RCNF_RLPS                 2\n",
       "EX_DIAG_ALT(GPT)           374\n",
       "EX_DIAG_AST(GOT)           387\n",
       "                          ... \n",
       "TRTM_CASB_CSTR_NT            8\n",
       "TRTM_CASB_CSTR_PRPS_CD       4\n",
       "TRTM_CASB_CSTR_REGN_CD      12\n",
       "TRTM_RD_RDT                  1\n",
       "DEAD_NFRM_DEAD               2\n",
       "Length: 87, dtype: int64"
      ]
     },
     "execution_count": 18,
     "metadata": {},
     "output_type": "execute_result"
    }
   ],
   "source": [
    "D0.nunique()"
   ]
  },
  {
   "cell_type": "code",
   "execution_count": null,
   "id": "89dbf1c9",
   "metadata": {},
   "outputs": [],
   "source": []
  }
 ],
 "metadata": {
  "kernelspec": {
   "display_name": "Python 3 (ipykernel)",
   "language": "python",
   "name": "python3"
  },
  "language_info": {
   "codemirror_mode": {
    "name": "ipython",
    "version": 3
   },
   "file_extension": ".py",
   "mimetype": "text/x-python",
   "name": "python",
   "nbconvert_exporter": "python",
   "pygments_lexer": "ipython3",
   "version": "3.8.5"
  }
 },
 "nbformat": 4,
 "nbformat_minor": 5
}
